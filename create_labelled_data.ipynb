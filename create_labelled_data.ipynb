{
 "cells": [
  {
   "cell_type": "markdown",
   "metadata": {},
   "source": [
    "# IP8: Creation of Labelled Data\n",
    "Define a path to an empty directory with enough free storage where the labelled data can be stored:"
   ]
  },
  {
   "cell_type": "code",
   "execution_count": null,
   "metadata": {},
   "outputs": [],
   "source": [
    "target_root = r'E:/'"
   ]
  },
  {
   "cell_type": "markdown",
   "metadata": {},
   "source": [
    "As usual, let's define the imports and some helper functions before we start."
   ]
  },
  {
   "cell_type": "code",
   "execution_count": null,
   "metadata": {},
   "outputs": [],
   "source": [
    "import random\n",
    "import matplotlib.pyplot as plt\n",
    "import numpy as np\n",
    "from IPython.display import HTML, Audio\n",
    "import ipywidgets as widgets\n",
    "\n",
    "from create_labelled_data import create_subsets\n",
    "from corpus_util import *\n",
    "from audio_util import *\n",
    "from data_util import *\n",
    "\n",
    "def show_audio(corpus_entry):\n",
    "    entry_title = HTML(f\"\"\"\n",
    "    <h3>Sample corpus entry: {corpus_entry.name}</h3>\n",
    "    <p><strong>Path to raw data</strong>: {corpus_entry.original_path}</p>\n",
    "    \"\"\")\n",
    "    entry_audio = Audio(corpus_entry.audio_file)\n",
    "    entry_text = widgets.Accordion(children=[widgets.HTML(f'<pre>{corpus_entry.transcription}</pre>')], selected_index=None)\n",
    "    entry_text.set_title(0, 'Transcription')\n",
    "    \n",
    "    display(entry_title)\n",
    "    display(entry_audio)\n",
    "    display(entry_text)\n",
    "\n",
    "def show_spectrogram(audio_file):\n",
    "    NFFT = 200  # Length of each window segment\n",
    "    Fs = 8000  # Sampling frequencies\n",
    "    noverlap = 120  # Overlap between windows\n",
    "\n",
    "    freqs, times, spec = calculate_spectrogram(audio_file, nfft=NFFT, fs=Fs, noverlap=noverlap)\n",
    "    \n",
    "    pad_xextent = (NFFT - noverlap) / Fs / 2\n",
    "    xextent = np.min(times) - pad_xextent, np.max(times) + pad_xextent\n",
    "    xmin, xmax = xextent\n",
    "    extent = xmin, xmax, freqs[0], freqs[-1]\n",
    "\n",
    "    im = plt.imshow(spec, extent=extent, aspect='auto')\n",
    "    plt.ylabel('Frequency [Hz]')\n",
    "    plt.xlabel('Time [steps]')  \n",
    "\n",
    "    \n",
    "def on_create_data_rl_button_click(sender):\n",
    "    rl_target_root = os.path.join(target_root, 'readylingua-data')\n",
    "    create_subsets(ls_corpus, rl_target_root)\n",
    "    \n",
    "def on_create_data_ls_button_click(sender):\n",
    "    ls_target_root = os.path.join(target_root, 'librispeech-data')\n",
    "    create_subsets(ls_corpus, ls_target_root)\n",
    "    \n",
    "# UI elements\n",
    "layout = widgets.Layout(width='250px', height='50px')\n",
    "create_data_rl_btn = widgets.Button(description=\"Create labelled data for ReadyLingua\", button_style='info', layout=layout, icon='download')\n",
    "create_data_rl_btn.on_click(on_create_data_rl_button_click)\n",
    "create_data_ls_btn = widgets.Button(description=\"Create labelled data for LibriSpeech\", button_style='info', layout=layout, icon='download')\n",
    "create_data_ls_btn.on_click(on_create_data_ls_button_click)"
   ]
  },
  {
   "cell_type": "markdown",
   "metadata": {},
   "source": [
    "After creating the corpora we can start creating labelled data to train an RNN. In the following sections the following variable namesare used to denote the parts of this data:\n",
    "\n",
    "* `X`: The training data, i.e. the spectrograms (one spectrogram per corpus entry)\n",
    "* `Y`: The training labels, i.e. sequences of zeroes when text is being spoken and sequences of ones when nothing is being spoken (i.e. silence or only background noise)\n",
    "\n",
    "Let's load the created corpora to make them available to this notebook."
   ]
  },
  {
   "cell_type": "code",
   "execution_count": null,
   "metadata": {},
   "outputs": [],
   "source": [
    "ls_corpus = load_corpus(r'E:\\librispeech-corpus\\librispeech.corpus')\n",
    "rl_corpus = load_corpus(r'E:\\readylingua-corpus\\readylingua.corpus')"
   ]
  },
  {
   "cell_type": "markdown",
   "metadata": {},
   "source": [
    "## Train/Dev/Test split\n",
    "The labelled data is split into subsets for training (_train-set_), validation (_dev-set_) and model evaluation (_test-set_). Since the corpora were constructed from different amounts of raw data, they vary in size and probability distribution (number of languages, homogeneity of the recording quality, ratio of male vs. female speakers, presence of distortions like reverb, echo or overdrive, and many more). Since the starting point for the creation of the corpus was so different, different approaches were taken to split the corpus up into train-, dev- and test-set.\n",
    "\n",
    "#### ReadyLingua corpus\n",
    "tbd.\n",
    "\n",
    "#### LibriSpeech corpus\n",
    "The LibriSpeech raw data is already split into train-, dev- and test-set. Each chapter is read by a different speaker. Each speaker is only contained in one of the subsets. Efforts have been made to keep the different sets within the same probability distributions (regarding to accents, ratio of male/female speakers, ...). To leverage these efforts, the corresponding corpus entries created from the raw data are kept in the same sets.\n",
    "\n",
    "---\n",
    "\n",
    "You can explore the subsets by executing the cell below to see the number of samples (corpus entries) in each subset."
   ]
  },
  {
   "cell_type": "code",
   "execution_count": null,
   "metadata": {},
   "outputs": [],
   "source": [
    "ls_train, ls_dev, ls_test = ls_corpus.train_dev_test_split()\n",
    "print(f'#train-samples: {len(ls_train)}, #dev-samples: {len(ls_dev)}, #test-samples: {len(ls_test)}')\n",
    "\n",
    "rl_train, rl_dev, rl_test = rl_corpus.train_dev_test_split()\n",
    "print(f'#train-samples: {len(rl_train)}, #dev-samples: {len(rl_dev)}, #test-samples: {len(rl_test)}')"
   ]
  },
  {
   "cell_type": "markdown",
   "metadata": {},
   "source": [
    "##  From corpus entries to spectrograms\n",
    "In order to train an RNN, each sample needs to be converted into some sort of sequence. In this case the samples are the audio files from the corpus entries and the sequences are their spectrograms. You can explore a random sample together with its spectrogram by executing the cell below."
   ]
  },
  {
   "cell_type": "code",
   "execution_count": null,
   "metadata": {},
   "outputs": [],
   "source": [
    "random_entry = random.choice(ls_corpus)\n",
    "show_spectrogram(random_entry.audio_file)\n",
    "show_audio(random_entry)"
   ]
  },
  {
   "cell_type": "markdown",
   "metadata": {},
   "source": [
    "A spectrogram is now created as a matrix `x` for every single corpus entry. All the `x`-es are then collected and form `X`. For each corpus this gives us three seperate files (`X_train.ls`, `X_dev.ls` and `X_test.ls` for LibriSpeech data and `X_train.rl`, `X_dev.rl` and `X_test.rl` for ReadyLingua data).\n",
    "\n",
    "Accordingly, the segmentation information (speech- and pause-segments) is obtained from each corpus entry to form a label vector `y` for each sample. All label vectors arae collected into the Label matrix `Y`. Like for the data part, also the labels are kept in three seperate files per corpus (`Y_train.ls`, `Y_dev.ls` and `Y_test.ls` resp. `Y_train.rl`, `Y_dev.rl` and `Y_test.rl`)"
   ]
  },
  {
   "cell_type": "markdown",
   "metadata": {},
   "source": [
    "## Creating the spectrograms and labels\n",
    "\n",
    "Click the button below to start processing the"
   ]
  },
  {
   "cell_type": "code",
   "execution_count": null,
   "metadata": {},
   "outputs": [],
   "source": [
    "display(widgets.HBox([create_data_rl_btn, create_data_ls_btn]))"
   ]
  },
  {
   "cell_type": "markdown",
   "metadata": {},
   "source": [
    "## Exploring the labelled data\n",
    "After the data has been processed, we can visualize a sample by comparing a spectrogram with its corresponding label vector."
   ]
  },
  {
   "cell_type": "code",
   "execution_count": null,
   "metadata": {},
   "outputs": [],
   "source": [
    "from data_util import *\n",
    "import random\n",
    "import os\n",
    "\n",
    "def visualize_sample(root_path, subset_name, ix_sample=None):\n",
    "    subset_entries = load_subset(subset_name, root_path)\n",
    "    subset_entries = list(subset_entries)\n",
    "    X, Y = subset_entries[ix_sample] if ix_sample is not None else random.choice(subset_entries)\n",
    "    return X, Y\n",
    "\n",
    "ls_root = os.path.join(target_root, 'librispeech-data')\n",
    "visualize_sample(ls_root, 'train')"
   ]
  },
  {
   "cell_type": "code",
   "execution_count": null,
   "metadata": {},
   "outputs": [],
   "source": []
  }
 ],
 "metadata": {
  "kernelspec": {
   "display_name": "Python 3",
   "language": "python",
   "name": "python3"
  },
  "language_info": {
   "codemirror_mode": {
    "name": "ipython",
    "version": 3
   },
   "file_extension": ".py",
   "mimetype": "text/x-python",
   "name": "python",
   "nbconvert_exporter": "python",
   "pygments_lexer": "ipython3",
   "version": "3.6.4"
  }
 },
 "nbformat": 4,
 "nbformat_minor": 1
}
