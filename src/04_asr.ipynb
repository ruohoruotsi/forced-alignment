{
 "cells": [
  {
   "cell_type": "markdown",
   "metadata": {
    "collapsed": true
   },
   "source": [
    "# ASR-Stage\n",
    "\n",
    "## Deep Speech 1\n",
    "\n",
    "\n",
    "## Deep Speech 2"
   ]
  },
  {
   "cell_type": "code",
   "execution_count": null,
   "metadata": {},
   "outputs": [],
   "source": []
  }
 ],
 "metadata": {
  "cite2c": {
   "citations": {
    "6174726/R96YXYYN": {
     "URL": "http://arxiv.org/abs/1412.5567",
     "author": [
      {
       "family": "Hannun",
       "given": "Awni Y."
      },
      {
       "family": "Case",
       "given": "Carl"
      },
      {
       "family": "Casper",
       "given": "Jared"
      },
      {
       "family": "Catanzaro",
       "given": "Bryan"
      },
      {
       "family": "Diamos",
       "given": "Greg"
      },
      {
       "family": "Elsen",
       "given": "Erich"
      },
      {
       "family": "Prenger",
       "given": "Ryan"
      },
      {
       "family": "Satheesh",
       "given": "Sanjeev"
      },
      {
       "family": "Sengupta",
       "given": "Shubho"
      },
      {
       "family": "Coates",
       "given": "Adam"
      },
      {
       "family": "Ng",
       "given": "Andrew Y."
      }
     ],
     "container-title": "CoRR",
     "issued": {
      "date-parts": [
       [
        2014
       ]
      ]
     },
     "title": "Deep Speech: Scaling up end-to-end speech recognition",
     "type": "article-journal",
     "volume": "abs/1412.5567"
    }
   }
  },
  "kernelspec": {
   "display_name": "Python 3",
   "language": "python",
   "name": "python3"
  },
  "language_info": {
   "codemirror_mode": {
    "name": "ipython",
    "version": 3
   },
   "file_extension": ".py",
   "mimetype": "text/x-python",
   "name": "python",
   "nbconvert_exporter": "python",
   "pygments_lexer": "ipython3",
   "version": "3.6.4"
  },
  "toc": {
   "base_numbering": 1,
   "nav_menu": {},
   "number_sections": true,
   "sideBar": true,
   "skip_h1_title": true,
   "title_cell": "Table of Contents",
   "title_sidebar": "Contents",
   "toc_cell": false,
   "toc_position": {},
   "toc_section_display": true,
   "toc_window_display": true
  }
 },
 "nbformat": 4,
 "nbformat_minor": 1
}
