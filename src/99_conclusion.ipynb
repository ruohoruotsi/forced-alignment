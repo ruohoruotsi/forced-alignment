{
 "cells": [
  {
   "cell_type": "markdown",
   "metadata": {
    "collapsed": true
   },
   "source": [
    "# Results and Conclusion\n",
    "\n",
    "## References\n",
    "\n",
    "<div class=\"cite2c-biblio\"></div>"
   ]
  },
  {
   "cell_type": "code",
   "execution_count": null,
   "metadata": {},
   "outputs": [],
   "source": []
  }
 ],
 "metadata": {
  "cite2c": {
   "citations": {
    "6174726/STDCGILD": {
     "author": [
      {
       "family": "Graves",
       "given": "Alex"
      },
      {
       "family": "Fernández",
       "given": "Santiago"
      },
      {
       "family": "Gomez",
       "given": "Faustino"
      }
     ],
     "container-title": "In Proceedings of the International Conference on Machine Learning, ICML 2006",
     "id": "6174726/STDCGILD",
     "issued": {
      "year": 2006
     },
     "page": "369–376",
     "page-first": "369",
     "title": "Connectionist temporal classification: Labelling unsegmented sequence data with recurrent neural networks",
     "type": "paper-conference"
    }
   }
  },
  "kernelspec": {
   "display_name": "Python 3",
   "language": "python",
   "name": "python3"
  },
  "language_info": {
   "codemirror_mode": {
    "name": "ipython",
    "version": 3
   },
   "file_extension": ".py",
   "mimetype": "text/x-python",
   "name": "python",
   "nbconvert_exporter": "python",
   "pygments_lexer": "ipython3",
   "version": "3.6.4"
  },
  "toc": {
   "base_numbering": 1,
   "nav_menu": {},
   "number_sections": true,
   "sideBar": true,
   "skip_h1_title": true,
   "title_cell": "Table of Contents",
   "title_sidebar": "Contents",
   "toc_cell": false,
   "toc_position": {},
   "toc_section_display": true,
   "toc_window_display": true
  }
 },
 "nbformat": 4,
 "nbformat_minor": 1
}
